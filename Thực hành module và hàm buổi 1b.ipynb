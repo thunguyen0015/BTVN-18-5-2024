{
 "cells": [
  {
   "cell_type": "markdown",
   "id": "a2a38651",
   "metadata": {},
   "source": [
    "## Bài 1:\n",
    "Viết hàm my_info() nhận vào 2 tham số `name` và `course`, sau đó in ra thông tin tương ứng. Ví dụ: \n",
    "```\n",
    "my_info('Long', 'Python')\n",
    "\n",
    "Output: \n",
    "My name is Long.\n",
    "I'm studying Python.\n",
    "```"
   ]
  },
  {
   "cell_type": "code",
   "execution_count": 26,
   "id": "392f869d",
   "metadata": {},
   "outputs": [
    {
     "name": "stdout",
     "output_type": "stream",
     "text": [
      "My name is Long\n",
      "I'm studying Python\n"
     ]
    }
   ],
   "source": [
    "def my_info(name='CODER',course='PYTHON'):\n",
    "    # code below this line\n",
    "    print(\"My name is\",name)\n",
    "    print(\"I'm studying\",course)\n",
    "    # code above this line\n",
    "    \n",
    "my_info('Long', 'Python')"
   ]
  },
  {
   "cell_type": "code",
   "execution_count": 27,
   "id": "496ac74b-a32c-47eb-b827-441b8dbe7d53",
   "metadata": {},
   "outputs": [
    {
     "name": "stdout",
     "output_type": "stream",
     "text": [
      "My name is CODER\n",
      "I'm studying PYTHON\n"
     ]
    }
   ],
   "source": [
    "my_info()"
   ]
  },
  {
   "cell_type": "markdown",
   "id": "7390cb06",
   "metadata": {},
   "source": [
    "## Bài 2:\n",
    "Viết hàm sum_even() nhận vào một số `n` và in ra tổng các số chẵn từ 2 đến n.\n",
    "Ví dụ:\n",
    "```\n",
    "sum_even(10)\n",
    "\n",
    "Output:\n",
    "30\n",
    "```"
   ]
  },
  {
   "cell_type": "code",
   "execution_count": 20,
   "id": "df52dd4b",
   "metadata": {},
   "outputs": [
    {
     "name": "stdout",
     "output_type": "stream",
     "text": [
      "30\n"
     ]
    }
   ],
   "source": [
    "def sum_even(nn):\n",
    "    # code below this line\n",
    "    n=int(nn)\n",
    "    tong=0\n",
    "    if n<2:\n",
    "        print(\"Nhập số nguyên lớn hơn 1\")\n",
    "    else:\n",
    "        for i in range(2,n+1,2):\n",
    "          tong+=i\n",
    "        print(tong)\n",
    "    # code above this line\n",
    "\n",
    "sum_even(10)"
   ]
  },
  {
   "cell_type": "code",
   "execution_count": 21,
   "id": "76550629-d033-4651-a4df-4905c25c6a96",
   "metadata": {},
   "outputs": [
    {
     "name": "stdout",
     "output_type": "stream",
     "text": [
      "Nhập số nguyên lớn hơn 1\n"
     ]
    }
   ],
   "source": [
    "sum_even(1)"
   ]
  },
  {
   "cell_type": "code",
   "execution_count": 22,
   "id": "372955a8-f3e9-4a38-98c6-aaf001d5baa6",
   "metadata": {},
   "outputs": [
    {
     "name": "stdout",
     "output_type": "stream",
     "text": [
      "30\n"
     ]
    }
   ],
   "source": [
    "sum_even(10.25)"
   ]
  },
  {
   "cell_type": "code",
   "execution_count": 23,
   "id": "95be2d63-1f38-439b-936d-3285aebc4a8a",
   "metadata": {},
   "outputs": [
    {
     "name": "stdout",
     "output_type": "stream",
     "text": [
      "30\n"
     ]
    }
   ],
   "source": [
    "sum_even(10.75)"
   ]
  },
  {
   "cell_type": "markdown",
   "id": "0f69e7f2",
   "metadata": {},
   "source": [
    "## Bài 3:\n",
    "Viết hàm easy_math() nhận vào 3 tham số `num1`, `op`, `num 2` để thực hiện phép tính tương ứng và in ra kết quả. \n",
    "Ví dụ:\n",
    "```\n",
    "easy_math(5, '+', 5)\n",
    "\n",
    "Output:\n",
    "10\n",
    "```\n"
   ]
  },
  {
   "cell_type": "code",
   "execution_count": 16,
   "id": "ce6058ca",
   "metadata": {},
   "outputs": [
    {
     "name": "stdout",
     "output_type": "stream",
     "text": [
      "7 // 2 = 3\n"
     ]
    }
   ],
   "source": [
    "def easy_math(num1,op,num2):\n",
    "    # code below this line\n",
    "    num11=int(num1)\n",
    "    num22=int(num2)\n",
    "    if op=='+':\n",
    "        print(num11,'+',num22,'=',num11+num22)\n",
    "    elif op=='-':\n",
    "        print(num11,'-',num22,'=',num11-num22)\n",
    "    elif op=='*':\n",
    "        print(num11,'*',num22,'=',num11*num22)\n",
    "    elif op=='/':\n",
    "        print(num11,'/',num22,'=',num11/num22)\n",
    "    elif op=='//':\n",
    "        print(num11,'//',num22,'=',num11//num22)\n",
    "    elif op=='%':\n",
    "        print(num11,'%',num22,'=',num11%num22)\n",
    "    else:\n",
    "        print(\"Tôi chỉ biết các dạng: + - * / // %\")\n",
    "    # code above this line\n",
    "\n",
    "easy_math(7, '//', 2)"
   ]
  },
  {
   "cell_type": "markdown",
   "id": "3239a01d",
   "metadata": {},
   "source": [
    "## Bài 4:\n",
    "Viết hàm check_even() nhận vào tham số `number` và kiểm tra xem `number` có phải là số chẵn hay không.\n",
    "Ví dụ:\n",
    "```\n",
    "check_even(5)\n",
    "\n",
    "Output:\n",
    "5 là số lẻ\n",
    "```"
   ]
  },
  {
   "cell_type": "code",
   "execution_count": 1,
   "id": "f6a0918a",
   "metadata": {},
   "outputs": [
    {
     "name": "stdout",
     "output_type": "stream",
     "text": [
      "5 là số lẻ.\n"
     ]
    }
   ],
   "source": [
    "def check_even(number):\n",
    "    # code below this line\n",
    "    so=int(number)\n",
    "    if so%2==0:\n",
    "        print(so,\"là số chẵn.\")\n",
    "    else:\n",
    "        print(so,\"là số lẻ.\")\n",
    "    # code above this line\n",
    "\n",
    "check_even(5)"
   ]
  },
  {
   "cell_type": "markdown",
   "id": "27a4bd3b",
   "metadata": {},
   "source": [
    "## Bài 5:\n",
    "Viết hàm transform_str() nhận vào tham số `string` và in ra `string` ở dạng uppercase và lowercase. Ví dụ:\n",
    "```\n",
    "transform_str('Function Is Magic!')\n",
    "\n",
    "Output:\n",
    "Lowercase: function is magic!\n",
    "Uppercase: FUNCTION IS MAGIC!\n",
    "```"
   ]
  },
  {
   "cell_type": "code",
   "execution_count": 1,
   "id": "ae2891a8",
   "metadata": {},
   "outputs": [
    {
     "name": "stdout",
     "output_type": "stream",
     "text": [
      "Lowercase: function is magic!\n",
      "Lowercase: FUNCTION IS MAGIC!\n"
     ]
    }
   ],
   "source": [
    "def transform_str(sentence='Hello'):\n",
    "    # code below this line\n",
    "    print(\"Lowercase:\",sentence.lower())\n",
    "    print(\"Lowercase:\",sentence.upper())\n",
    "    # code above this line\n",
    "\n",
    "transform_str('Function Is Magic!')"
   ]
  },
  {
   "cell_type": "markdown",
   "id": "163331db",
   "metadata": {},
   "source": [
    "## Bài 6:\n",
    "Viết hàm calculate_factorial() nhận vào tham số `number` và in ra giai thừa của tham số đó. Ví dụ:\n",
    "```\n",
    "calculate_factorial(5)\n",
    "\n",
    "Output: 120\n",
    "```"
   ]
  },
  {
   "cell_type": "code",
   "execution_count": 2,
   "id": "0047ec9d",
   "metadata": {},
   "outputs": [
    {
     "name": "stdout",
     "output_type": "stream",
     "text": [
      "120\n"
     ]
    }
   ],
   "source": [
    "def calculate_factorial(num=3):\n",
    "    # code below this line\n",
    "    result=1\n",
    "    for i in range(1,num+1):\n",
    "        result*=i\n",
    "    print(result)\n",
    "    # code above this line\n",
    "\n",
    "calculate_factorial(5)"
   ]
  },
  {
   "cell_type": "markdown",
   "id": "6d381154",
   "metadata": {},
   "source": [
    "## Bài 7:\n",
    "Dãy Fibonacci là dãy vô hạn các số tự nhiên bắt đầu bằng 1 và 1, sau đó các số tiếp theo sẽ bằng tổng của 2 số liền trước nó. \n",
    "\n",
    "Cụ thể, các số đầu tiên của dãy Fibonacci là 1, 1, 2, 3, 5, 8, 13, 21, 34, 55, 89, 144, 233, 377, 610... \n",
    "\n",
    "Nhiệm vụ: Viết chương trình find_fibo() nhận vào tham số `index` và in ra số Fibonacci ở vị trí `index`. Nếu `index` bằng 0 thì in ra 0. Ví dụ:\n",
    "\n",
    "```\n",
    "find_fibo(1)\n",
    "\n",
    "Output:\n",
    "1\n",
    "```\n",
    "-------------------\n",
    "```\n",
    "find_fibo(6)\n",
    "\n",
    "Output:\n",
    "8\n",
    "```\n",
    "-------------------\n",
    "```\n",
    "find_fibo(0)\n",
    "\n",
    "Output:\n",
    "0\n",
    "```"
   ]
  },
  {
   "cell_type": "code",
   "execution_count": 7,
   "id": "0b8b2dc3",
   "metadata": {},
   "outputs": [
    {
     "name": "stdout",
     "output_type": "stream",
     "text": [
      "0\n"
     ]
    }
   ],
   "source": [
    "def find_fibo(index=0):\n",
    "    # code below this line\n",
    "    vi_tri=0\n",
    "    fibo1=1\n",
    "    fibo2=1\n",
    "    if index<=0:\n",
    "        print(0)\n",
    "    elif  index==1 or index==2:\n",
    "        print(1)\n",
    "    else:\n",
    "        while vi_tri<index-2:\n",
    "            vi_tri+=1\n",
    "            tam=fibo1\n",
    "            fibo1=fibo2\n",
    "            fibo2=fibo1+tam\n",
    "        print(fibo2)\n",
    "    # code above this line\n",
    "\n",
    "find_fibo(0)"
   ]
  },
  {
   "cell_type": "code",
   "execution_count": 3,
   "id": "78404f5e-8479-4d0b-bb0c-4a6c9e5dc73c",
   "metadata": {},
   "outputs": [
    {
     "name": "stdout",
     "output_type": "stream",
     "text": [
      "0\n"
     ]
    }
   ],
   "source": [
    "find_fibo()"
   ]
  },
  {
   "cell_type": "code",
   "execution_count": 10,
   "id": "49b7d6a7-a74a-4f03-a432-5256e5467a80",
   "metadata": {},
   "outputs": [
    {
     "name": "stdout",
     "output_type": "stream",
     "text": [
      "1\n"
     ]
    }
   ],
   "source": [
    "find_fibo(1)"
   ]
  },
  {
   "cell_type": "code",
   "execution_count": 9,
   "id": "6d4d5c05-b3e3-4b25-b531-002c6fac6707",
   "metadata": {},
   "outputs": [
    {
     "name": "stdout",
     "output_type": "stream",
     "text": [
      "1\n"
     ]
    }
   ],
   "source": [
    "find_fibo(2)"
   ]
  },
  {
   "cell_type": "code",
   "execution_count": 8,
   "id": "6c1bd592-cb18-44e2-afcc-726e86b81322",
   "metadata": {},
   "outputs": [
    {
     "name": "stdout",
     "output_type": "stream",
     "text": [
      "2\n"
     ]
    }
   ],
   "source": [
    "find_fibo(3)"
   ]
  },
  {
   "cell_type": "code",
   "execution_count": 11,
   "id": "bd4ecc7e-fd1b-4e4d-b962-45e0b0ae7f88",
   "metadata": {},
   "outputs": [
    {
     "name": "stdout",
     "output_type": "stream",
     "text": [
      "8\n"
     ]
    }
   ],
   "source": [
    "find_fibo(6)"
   ]
  },
  {
   "cell_type": "markdown",
   "id": "65db4551",
   "metadata": {},
   "source": [
    "## Bài 8:\n",
    "Viết hàm find_divisors() nhận vào một số nguyên dương `number` và in ra tất cả các ước của `number`. Ví dụ:\n",
    "```\n",
    "find_divisors(24)\n",
    "\n",
    "Output:\n",
    "Ước của 24 là: 1, 2, 3, 4, 6, 8, 12, 24\n",
    "```"
   ]
  },
  {
   "cell_type": "code",
   "execution_count": 1,
   "id": "d9b20c10",
   "metadata": {},
   "outputs": [
    {
     "name": "stdout",
     "output_type": "stream",
     "text": [
      "1 2 3 4 6 8 12 24 "
     ]
    }
   ],
   "source": [
    "def find_divisors(number):\n",
    "    # code below this line\n",
    "    so=int(number)\n",
    "    for i in range(1,so+1):\n",
    "        if so%i==0:\n",
    "            print(i,end=' ')\n",
    "    # code above this line\n",
    "\n",
    "find_divisors(24)"
   ]
  },
  {
   "cell_type": "markdown",
   "id": "37000ab2",
   "metadata": {},
   "source": [
    "## Bài 9:\n",
    "Viết hàm solve_equation() để giải phương trình bậc nhất ax + b = 0 với `a` và `b` là 2 tham số đầu vào. Ví dụ:\n",
    "```\n",
    "solve_equation(2, -4)\n",
    "\n",
    "Output: \n",
    "x = 2\n",
    "```\n",
    "---\n",
    "```\n",
    "solve_equation(0, 0)\n",
    "\n",
    "Output: \n",
    "Phương trình vô số nghiệm\n",
    "```\n",
    "---\n",
    "```\n",
    "solve_equation(0, -4)\n",
    "\n",
    "Output: \n",
    "Phương trình vô nghiệm\n",
    "```"
   ]
  },
  {
   "cell_type": "code",
   "execution_count": 7,
   "id": "abfc5589",
   "metadata": {},
   "outputs": [
    {
     "name": "stdout",
     "output_type": "stream",
     "text": [
      "Giải phương trình bậc nhất ax + b = 0\n",
      "Phương trình 2.00x - 4.00 = 0 có nghiệm duy nhất x = 2.00\n"
     ]
    }
   ],
   "source": [
    "def solve_equation(ax,bb):\n",
    "    # code below this line\n",
    "    a=float(ax)\n",
    "    b=float(bb)\n",
    "    print(\"Giải phương trình bậc nhất ax + b = 0\")\n",
    "    if a==0:\n",
    "        if b==0:\n",
    "            print(\"Phương trình vô số nghiệm\")\n",
    "        else:\n",
    "            print(\"Phương trình Vô nghiệm\")\n",
    "    else:\n",
    "        if b>=0:\n",
    "            print(\"Phương trình {:>.2f}x + {:^.2f} = 0 có nghiệm duy nhất x = {:<.2f}\".format(a,b,-b/a))\n",
    "        else:\n",
    "            print(\"Phương trình {:>.2f}x - {:^.2f} = 0 có nghiệm duy nhất x = {:<.2f}\".format(a,abs(b),-b/a))\n",
    "    # code above this line\n",
    "\n",
    "solve_equation(2, -4)"
   ]
  },
  {
   "cell_type": "code",
   "execution_count": 8,
   "id": "2b7a9578-cb56-4ed0-a7f8-46a874bd3163",
   "metadata": {},
   "outputs": [
    {
     "name": "stdout",
     "output_type": "stream",
     "text": [
      "Giải phương trình bậc nhất ax + b = 0\n",
      "Phương trình -20.00x + 4.00 = 0 có nghiệm duy nhất x = 0.20\n"
     ]
    }
   ],
   "source": [
    "solve_equation(-20, 4)"
   ]
  },
  {
   "cell_type": "markdown",
   "id": "a483ed69",
   "metadata": {},
   "source": [
    "## Bài 10:\n",
    "Viết hàm find_distance() nhận vào 4 tham số `x1`, `y1`, `x2`, `y2` là tọa độ của 2 điểm trên trục tọa độ và in ra khoảng cách của 2 điểm đó theo công thức:\n",
    "```\n",
    "distance = sqrt((x1-x2)^2 + (y1-y2)^2)\n",
    "```\n",
    "Tham khảo: https://toanthaydinh.com/cong-thuc-tinh-khoang-cach-giua-2-diem/\n",
    "Khoảng cách được làm tròn 2 chữ số thập phân.\n",
    "\n",
    "Ví dụ:\n",
    "```\n",
    "find_distance(5, 2, 1, 3)\n",
    "\n",
    "Output:\n",
    "4.12\n",
    "```"
   ]
  },
  {
   "cell_type": "code",
   "execution_count": 13,
   "id": "2dcf614e",
   "metadata": {},
   "outputs": [
    {
     "name": "stdout",
     "output_type": "stream",
     "text": [
      "4.12\n"
     ]
    }
   ],
   "source": [
    "def find_distance(xx1,yy1,xx2,yy2):\n",
    "    # code below this line\n",
    "    x1=float(xx1)\n",
    "    y1=float(yy1)\n",
    "    x2=float(xx2)\n",
    "    y2=float(yy2)\n",
    "    result = ((x1-x2)**2 + (y1-y2)**2)**(0.5)\n",
    "    print(\"{:.2f}\".format(result))\n",
    "    # code above this line\n",
    "\n",
    "find_distance(5, 2, 1, 3)"
   ]
  },
  {
   "cell_type": "markdown",
   "id": "6236743e",
   "metadata": {},
   "source": [
    "## Bài 11(bonus):\n",
    "Viết hàm test_password() nhận vào một chuỗi(xem như là mật khẩu của người dùng).\n",
    "Sau đó kiểm tra xem đây có phải là mật khẩu mạnh hay không theo quy tắc sau:\n",
    "- Mật khẩu mạnh là mật khẩu phải có ít nhất 1 chữ hoa, 1 chữ thường, 1 số và 1 ký tự đặc biệt"
   ]
  },
  {
   "cell_type": "code",
   "execution_count": 14,
   "id": "b24922e7",
   "metadata": {},
   "outputs": [
    {
     "name": "stdout",
     "output_type": "stream",
     "text": [
      "Mật khẩu mạnh\n"
     ]
    }
   ],
   "source": [
    "def test_password(sentence):\n",
    "    # code below this line\n",
    "    chu_in=False\n",
    "    chu_thuong=False\n",
    "    chu_so=False\n",
    "    dac_biet=False\n",
    "    for c in sentence:\n",
    "        if c.isupper():#kiểm tra chữ in\n",
    "            chu_in=True\n",
    "        if c.islower():#kiểm tra chữ thường\n",
    "            chu_thuong=True\n",
    "        if c.isdigit():#kiểm tra chữ số\n",
    "            chu_so=True\n",
    "        if c.isalnum():#kiểm tra ký tự đặc biệt\n",
    "            dac_biet=True\n",
    "    if chu_in and chu_thuong and chu_so and dac_biet:\n",
    "        print(\"Mật khẩu mạnh\")\n",
    "    else:\n",
    "        print(\"Mật khẩu chưa đủ mạnh\")\n",
    "    # code above this line\n",
    "\n",
    "test_password(\"aW12R@_bc\")"
   ]
  },
  {
   "cell_type": "code",
   "execution_count": 18,
   "id": "17ffd7ca-861c-47ce-8d76-ccd85aac42e8",
   "metadata": {},
   "outputs": [
    {
     "name": "stdout",
     "output_type": "stream",
     "text": [
      "Mật khẩu chưa đủ mạnh\n"
     ]
    }
   ],
   "source": [
    "test_password(\"codegym\")"
   ]
  },
  {
   "cell_type": "code",
   "execution_count": 17,
   "id": "cacd1043-2e4b-4fe0-aad5-27bf79fb7a8c",
   "metadata": {},
   "outputs": [
    {
     "name": "stdout",
     "output_type": "stream",
     "text": [
      "Mật khẩu mạnh\n"
     ]
    }
   ],
   "source": [
    "# cách dùng mã ascii\n",
    "def test_password2(sentence):\n",
    "    # code below this line\n",
    "    chu_in=False\n",
    "    chu_thuong=False\n",
    "    chu_so=False\n",
    "    dac_biet=False\n",
    "    for c in sentence:\n",
    "        ascii_c=ord(c)\n",
    "        if 65 <= ascii_c and ascii_c <=90:#kiểm tra chữ in\n",
    "            chu_in=True\n",
    "        elif 97 <= ascii_c and ascii_c <=122:#kiểm tra chữ thường\n",
    "            chu_thuong=True\n",
    "        elif 48 <= ascii_c and ascii_c <=57:#kiểm tra chữ số\n",
    "            chu_so=True\n",
    "        else:#kiểm tra ký tự đặc biệt\n",
    "            dac_biet=True\n",
    "    if chu_in and chu_thuong and chu_so and dac_biet:\n",
    "        print(\"Mật khẩu mạnh\")\n",
    "    else:\n",
    "        print(\"Mật khẩu chưa đủ mạnh\")\n",
    "    # code above this line\n",
    "\n",
    "test_password2(\"aW12R@_bc\")"
   ]
  },
  {
   "cell_type": "code",
   "execution_count": 19,
   "id": "f8aed60e-8dce-4a04-b5fb-fb6ffbf4185b",
   "metadata": {},
   "outputs": [
    {
     "name": "stdout",
     "output_type": "stream",
     "text": [
      "Mật khẩu chưa đủ mạnh\n"
     ]
    }
   ],
   "source": [
    "test_password2(\"PYTHON@CODEGYM\")"
   ]
  }
 ],
 "metadata": {
  "kernelspec": {
   "display_name": "Python 3 (ipykernel)",
   "language": "python",
   "name": "python3"
  },
  "language_info": {
   "codemirror_mode": {
    "name": "ipython",
    "version": 3
   },
   "file_extension": ".py",
   "mimetype": "text/x-python",
   "name": "python",
   "nbconvert_exporter": "python",
   "pygments_lexer": "ipython3",
   "version": "3.11.3"
  }
 },
 "nbformat": 4,
 "nbformat_minor": 5
}
