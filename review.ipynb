{
 "cells": [
  {
   "cell_type": "code",
   "execution_count": 1,
   "id": "1b261a40-f912-4b90-9e86-5e787d3e2287",
   "metadata": {},
   "outputs": [
    {
     "name": "stdout",
     "output_type": "stream",
     "text": [
      "***************************\n",
      "*     Huỳnh Lưu Trung     *\n",
      "*     Course: Python      *\n",
      "*  Organizer: Codegym     *\n",
      "***************************\n"
     ]
    }
   ],
   "source": [
    "print(\"***************************\")\n",
    "print(\"*     Huỳnh Lưu Trung     *\")\n",
    "print(\"*     Course: Python      *\")\n",
    "print(\"*  Organizer: Codegym     *\")\n",
    "print(\"***************************\")"
   ]
  }
 ],
 "metadata": {
  "kernelspec": {
   "display_name": "Python 3 (ipykernel)",
   "language": "python",
   "name": "python3"
  },
  "language_info": {
   "codemirror_mode": {
    "name": "ipython",
    "version": 3
   },
   "file_extension": ".py",
   "mimetype": "text/x-python",
   "name": "python",
   "nbconvert_exporter": "python",
   "pygments_lexer": "ipython3",
   "version": "3.11.3"
  }
 },
 "nbformat": 4,
 "nbformat_minor": 5
}
